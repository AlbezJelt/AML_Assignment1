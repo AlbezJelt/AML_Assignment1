{
 "cells": [
  {
   "cell_type": "markdown",
   "metadata": {},
   "source": [
    "# **Advance Machine Learning - Assignment 1 - Prediction task**\n",
    "\n",
    "*Federico Alberici, matricola 808058*\n",
    "\n",
    "First of all we import all utilized libraries:"
   ]
  },
  {
   "cell_type": "code",
   "execution_count": 1,
   "metadata": {},
   "outputs": [],
   "source": [
    "from numpy.random import seed\n",
    "import tensorflow as tf\n",
    "import pandas as pd\n",
    "from modules.utils import import_training_dataset\n",
    "import numpy as np\n",
    "from sklearn.preprocessing import StandardScaler\n",
    "from modules.utils import preprocess_data\n",
    "import math\n",
    "import os\n",
    "import keras\n",
    "from qhoptim.tf import QHAdamOptimizer\n",
    "from keras.utils.generic_utils import get_custom_objects\n",
    "from keras.layers import Activation, LeakyReLU\n",
    "from keras import backend as K\n",
    "from keras import optimizers\n",
    "from keras import layers\n",
    "from modules.utils import root_mean_squared_error, import_predict_dataset, gelu\n",
    "from keras.wrappers.scikit_learn import KerasClassifier"
   ]
  },
  {
   "cell_type": "code",
   "execution_count": 2,
   "metadata": {},
   "outputs": [
    {
     "name": "stdout",
     "output_type": "stream",
     "text": [
      "WARNING:tensorflow:No training configuration found in the save file, so the model was *not* compiled. Compile it manually.\n",
      "Model: \"sequential\"\n",
      "_________________________________________________________________\n",
      "Layer (type)                 Output Shape              Param #   \n",
      "=================================================================\n",
      "dense (Dense)                (None, 18)                180       \n",
      "_________________________________________________________________\n",
      "dense_1 (Dense)              (None, 6)                 114       \n",
      "_________________________________________________________________\n",
      "dense_2 (Dense)              (None, 1)                 7         \n",
      "=================================================================\n",
      "Total params: 301\n",
      "Trainable params: 301\n",
      "Non-trainable params: 0\n",
      "_________________________________________________________________\n"
     ]
    }
   ],
   "source": [
    "url_features = 'https://raw.githubusercontent.com/AlbezJelt/AML_Assignment1/main/data/X_test.csv'\n",
    "predict_set = import_predict_dataset(url_features)\n",
    "\n",
    "get_custom_objects().update({'gelu': keras.layers.Activation(gelu)})\n",
    "custom_objects={'Activation': Activation(gelu), 'root_mean_squared_error': root_mean_squared_error}\n",
    "model2 = tf.keras.models.load_model(f'{os.getcwd()}/models/regression_model.h5', custom_objects=custom_objects)\n",
    "model2.summary()"
   ]
  },
  {
   "cell_type": "code",
   "execution_count": 3,
   "metadata": {},
   "outputs": [],
   "source": [
    "from modules.utils import preprocess_data\n",
    "import sklearn\n",
    "from joblib import load\n",
    "\n",
    "X_scaler = load(f\"{os.getcwd()}/models/X_scaler.joblib\")\n",
    "Y_scaler = load(f\"{os.getcwd()}/models/Y_scaler.joblib\")\n",
    "\n",
    "X_predict = preprocess_data(predict_set, scaler=X_scaler)\n",
    "Y_scaled = model2.predict(X_predict)\n",
    "\n",
    "Y_invscaled = Y_scaler.inverse_transform(Y_scaled)"
   ]
  },
  {
   "cell_type": "code",
   "execution_count": 4,
   "metadata": {},
   "outputs": [],
   "source": [
    "import pandas as pd\n",
    "\n",
    "pd.DataFrame(Y_invscaled).to_csv(f\"{os.getcwd()}/results/Federico_Alberici_808058_score1.txt\",\n",
    "                                header=False,\n",
    "                                index=False)"
   ]
  }
 ],
 "metadata": {
  "kernelspec": {
   "display_name": "Keras",
   "language": "python",
   "name": "keras"
  },
  "language_info": {
   "codemirror_mode": {
    "name": "ipython",
    "version": 3
   },
   "file_extension": ".py",
   "mimetype": "text/x-python",
   "name": "python",
   "nbconvert_exporter": "python",
   "pygments_lexer": "ipython3",
   "version": "3.8.5"
  }
 },
 "nbformat": 4,
 "nbformat_minor": 4
}
